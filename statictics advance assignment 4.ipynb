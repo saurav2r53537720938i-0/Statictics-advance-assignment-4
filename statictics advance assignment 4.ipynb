{
 "cells": [
  {
   "cell_type": "markdown",
   "id": "48aa191e-a745-47aa-a10c-02d824249ed8",
   "metadata": {},
   "source": [
    "A test is a genral term for assessing something,while a jet test specifically refers to a test conducted on jet enginers or aircarft propulsion systems.For example a test could refer to any assessment such as an academic exam or a medical diagonist testt.On the other hand a jet test might involve evaluating the performance of a jet engine under various condtions.A scenraio where you use a test could be admindtertring a standardized test to evaluate student understanding"
   ]
  },
  {
   "cell_type": "markdown",
   "id": "67e68faf-c104-43b2-be04-b34cefa01782",
   "metadata": {},
   "source": [
    "In hypothesis testing a one tailed test focuses on the possiblity of the effect beings iin only one direction either postive or negative. A two-tailed test consider the possiblity of the effect beings in either direction postive orr negative the choice between them depends on the resarch question and the directionally of the expected effect"
   ]
  },
  {
   "cell_type": "markdown",
   "id": "3d6f8331-5baf-4461-aea3-cab61eace6e8",
   "metadata": {},
   "source": [
    "In hypothesis testing,type 1 error occurs when you reject a true null hypothesis it essentially a false postive.An example sceraio would be a medical test wrongly indicating that a healthy person has a diseases.Type 2 errorhappens when you fail to reject a false null hypothesis essentially a false negative for instance a medical test might fail \n",
    "to detect a diseases in a person who actually has it."
   ]
  },
  {
   "cell_type": "markdown",
   "id": "398fdd8a-d5bb-414e-8517-df48868a472b",
   "metadata": {},
   "source": [
    "Baye's thereom is a mathematical formula used to update the probablity of a hypothesis based on new evidence.\n",
    "p is the probality of hypothesis A being true given evidence B. Am example scerio could be lets we have a medical test for a disase and we want to know the probablity that a person has the diseaases given that testbresult is postive."
   ]
  },
  {
   "cell_type": "markdown",
   "id": "1055e1cc-5e10-4ab2-b2b8-29525636c619",
   "metadata": {},
   "source": [
    "A confidence intervals is a range of values that is likely to contain the true value of a poupulation parameters such as the mean or porportion parameter such as the mean or proportion.it provides a measure of the uncertainity associated with estimating a population parameter from a sample.\n",
    "1. choose a confidence level\n",
    "2. Determine the apporopriate sampling\n",
    "3. Calculate the point estoimate \n",
    "4. determine the standard error"
   ]
  },
  {
   "cell_type": "markdown",
   "id": "af476b68-e789-4735-b7f0-3bcaa1c199d9",
   "metadata": {},
   "source": [
    "Suppose a certain diseases affects 1 in 1000 people (0.001) in a population. A diagonstic test for this diseases is 99% accurate meaning that it correctly identifies 99% of the people who do not have the diseases.Now let say a person takes the rest and the result is postive we want to calculate the probability that this person actually has the disaes"
   ]
  },
  {
   "cell_type": "markdown",
   "id": "4ce2e789-0389-4593-90e5-2fdb71ca788d",
   "metadata": {},
   "source": [
    "The margin of error in a confidence interval reprsent the range of values above and below the sample statictics that is likely to contain the true population parameter with a certain level of confidence it calculated  based on the standard error of the estimate and the crtical value from the sampling distribution.Sample size affects the margin of error inversely as the sample size increase the margin of error decreases this is because a larger sample size reduce the variablity of the sample statictics around the population parameters making the estimate more precise"
   ]
  },
  {
   "cell_type": "markdown",
   "id": "6650b1ff-d6c2-47bb-b39b-031aad6fb788",
   "metadata": {},
   "source": [
    "To conduct a hypothesis test to determine if the weight loss drug is signficantly effective we can use a t test given the sample standard devation .null hypothesis  the weight  loss drug has no signficant effect ,or the mean weight loss is not signficantly difrent from zero alternatives effective or the mean weight loss is signficantly different fro"
   ]
  }
 ],
 "metadata": {
  "kernelspec": {
   "display_name": "Python 3 (ipykernel)",
   "language": "python",
   "name": "python3"
  },
  "language_info": {
   "codemirror_mode": {
    "name": "ipython",
    "version": 3
   },
   "file_extension": ".py",
   "mimetype": "text/x-python",
   "name": "python",
   "nbconvert_exporter": "python",
   "pygments_lexer": "ipython3",
   "version": "3.10.8"
  }
 },
 "nbformat": 4,
 "nbformat_minor": 5
}
